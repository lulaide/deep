{
 "cells": [
  {
   "cell_type": "code",
   "id": "30aa5a49",
   "metadata": {
    "ExecuteTime": {
     "end_time": "2025-05-12T11:29:28.956486Z",
     "start_time": "2025-05-12T11:29:28.941272Z"
    }
   },
   "source": [
    "import re\n",
    "\n",
    "from torchaudio.models.wav2vec2.components import SelfAttention\n",
    "\n",
    "with open(\"the-verdict.txt\", \"r\") as file:\n",
    "    raw_text = file.read()\n",
    "\n",
    "preprocessed = re.split(r'([,.;:?_\"()\\']|--|\\s)', raw_text)\n",
    "preprocessed = [item.strip() for item in preprocessed if item.strip()]\n",
    "print(preprocessed[:30])"
   ],
   "outputs": [
    {
     "name": "stdout",
     "output_type": "stream",
     "text": [
      "['I', 'HAD', 'always', 'thought', 'Jack', 'Gisburn', 'rather', 'a', 'cheap', 'genius', '--', 'though', 'a', 'good', 'fellow', 'enough', '--', 'so', 'it', 'was', 'no', 'great', 'surprise', 'to', 'me', 'to', 'hear', 'that', ',', 'in']\n"
     ]
    }
   ],
   "execution_count": 1
  },
  {
   "cell_type": "code",
   "id": "68bc6a69",
   "metadata": {
    "ExecuteTime": {
     "end_time": "2025-05-12T11:29:29.154381Z",
     "start_time": "2025-05-12T11:29:29.144191Z"
    }
   },
   "source": [
    "all_words = sorted(set(preprocessed))\n",
    "vocab_size = len(all_words)\n",
    "vocab = {token: integer for integer, token in enumerate(all_words)}\n",
    "print(vocab_size)\n",
    "for i, item in enumerate(vocab.items()):\n",
    "    print(item)\n",
    "    if i >= 10:\n",
    "        break"
   ],
   "outputs": [
    {
     "name": "stdout",
     "output_type": "stream",
     "text": [
      "1148\n",
      "('\"', 0)\n",
      "(\"'\", 1)\n",
      "('(', 2)\n",
      "(')', 3)\n",
      "(',', 4)\n",
      "('--', 5)\n",
      "('.', 6)\n",
      "(':', 7)\n",
      "(';', 8)\n",
      "('?', 9)\n",
      "('A', 10)\n"
     ]
    }
   ],
   "execution_count": 2
  },
  {
   "cell_type": "code",
   "id": "bc174b16",
   "metadata": {
    "ExecuteTime": {
     "end_time": "2025-05-12T11:29:29.394633Z",
     "start_time": "2025-05-12T11:29:29.385790Z"
    }
   },
   "source": [
    "class SimpleTokenizerV1:\n",
    "    def __init__(self, vocab):\n",
    "        self.str2id = vocab\n",
    "        self.id2str = {i: s for s, i in vocab.items()}\n",
    "\n",
    "    def encode(self, text):\n",
    "        preprocessed = re.split(r'[, .?_!\"\\'()|\\s]', text)\n",
    "        preprocessed = [item for item in preprocessed if item.strip()]\n",
    "        ids = []\n",
    "        for s in preprocessed:\n",
    "            if s in self.str2id:\n",
    "                ids.append(self.str2id[s])\n",
    "            else:\n",
    "                print(f\"警告: 词汇 '{s}' 在词汇表中没有找到\")\n",
    "                ids.append(-1)  # 可以给未知词汇一个默认值，或者做其他处理\n",
    "        return ids\n",
    "\n",
    "    def decode(self, ids):\n",
    "        text = \" \".join(self.id2str.get(i, '[UNK]') for i in ids)  # 对于未知的 ID，使用 [UNK]\n",
    "        text = re.sub(r'\\s+([, .?_!\"\\'()|\\s])', r'\\1', text)\n",
    "        return text"
   ],
   "outputs": [],
   "execution_count": 3
  },
  {
   "cell_type": "code",
   "id": "6e333285",
   "metadata": {
    "ExecuteTime": {
     "end_time": "2025-05-12T11:29:29.966791Z",
     "start_time": "2025-05-12T11:29:29.961175Z"
    }
   },
   "source": [
    "tokenizer = SimpleTokenizerV1(vocab)\n",
    "text = raw_text[:99]\n",
    "ids = tokenizer.encode(text)\n",
    "print(ids)\n",
    "print(tokenizer.decode(ids))"
   ],
   "outputs": [
    {
     "name": "stdout",
     "output_type": "stream",
     "text": [
      "警告: 词汇 'genius--though' 在词汇表中没有找到\n",
      "警告: 词汇 'enough--so' 在词汇表中没有找到\n",
      "[53, 44, 154, 1016, 57, 37, 829, 120, 261, -1, 120, 505, 440, -1, 592, 1091, 717]\n",
      "I HAD always thought Jack Gisburn rather a cheap [UNK] a good fellow [UNK] it was no\n"
     ]
    }
   ],
   "execution_count": 4
  },
  {
   "cell_type": "code",
   "id": "c712595e",
   "metadata": {
    "ExecuteTime": {
     "end_time": "2025-05-12T11:29:30.548996Z",
     "start_time": "2025-05-12T11:29:30.544113Z"
    }
   },
   "source": [
    "text = \"genius--though\"\n",
    "print(tokenizer.encode(text))"
   ],
   "outputs": [
    {
     "name": "stdout",
     "output_type": "stream",
     "text": [
      "警告: 词汇 'genius--though' 在词汇表中没有找到\n",
      "[-1]\n"
     ]
    }
   ],
   "execution_count": 5
  },
  {
   "cell_type": "code",
   "id": "b11fb799",
   "metadata": {
    "ExecuteTime": {
     "end_time": "2025-05-12T11:30:31.538183Z",
     "start_time": "2025-05-12T11:29:30.929344Z"
    }
   },
   "source": [
    "import tiktoken\n",
    "\n",
    "tokenizer = tiktoken.get_encoding(\"gpt2\")\n",
    "text = \"Hello, do you like tea? <|endoftext|> In the sunlit terraces of someunknownPlace.\"\n",
    "integers = tokenizer.encode(text, allowed_special={\"<|endoftext|>\"})\n",
    "print(integers)\n",
    "\n",
    "strings = tokenizer.decode(integers)\n",
    "print(strings)"
   ],
   "outputs": [
    {
     "name": "stdout",
     "output_type": "stream",
     "text": [
      "[15496, 11, 466, 345, 588, 8887, 30, 220, 50256, 554, 262, 4252, 18250, 8812, 2114, 286, 617, 34680, 27271, 13]\n",
      "Hello, do you like tea? <|endoftext|> In the sunlit terraces of someunknownPlace.\n"
     ]
    }
   ],
   "execution_count": 6
  },
  {
   "cell_type": "code",
   "id": "3c90ea75",
   "metadata": {
    "ExecuteTime": {
     "end_time": "2025-05-12T11:30:31.981607Z",
     "start_time": "2025-05-12T11:30:31.961733Z"
    }
   },
   "source": [
    "with open(\"the-verdict.txt\", \"r\", encoding=\"utf-8\") as f:\n",
    "    raw_text = f.read()\n",
    "\n",
    "enc_text = tokenizer.encode(raw_text)\n",
    "print(len(enc_text))"
   ],
   "outputs": [
    {
     "name": "stdout",
     "output_type": "stream",
     "text": [
      "5145\n"
     ]
    }
   ],
   "execution_count": 7
  },
  {
   "cell_type": "code",
   "id": "e5fe5d79",
   "metadata": {
    "ExecuteTime": {
     "end_time": "2025-05-12T11:30:32.401485Z",
     "start_time": "2025-05-12T11:30:32.394421Z"
    }
   },
   "source": [
    "enc_sample = enc_text[50:]\n",
    "context_size = 4\n",
    "for i in range(1, context_size + 1):\n",
    "    context = enc_sample[:i]\n",
    "    desired = enc_sample[i]\n",
    "    print(tokenizer.decode(context), \"---->\", tokenizer.decode([desired]))"
   ],
   "outputs": [
    {
     "name": "stdout",
     "output_type": "stream",
     "text": [
      " and ---->  established\n",
      " and established ---->  himself\n",
      " and established himself ---->  in\n",
      " and established himself in ---->  a\n"
     ]
    }
   ],
   "execution_count": 8
  },
  {
   "cell_type": "code",
   "id": "4dceac45",
   "metadata": {
    "ExecuteTime": {
     "end_time": "2025-05-12T11:30:36.355033Z",
     "start_time": "2025-05-12T11:30:32.776215Z"
    }
   },
   "source": [
    "import torch\n",
    "from torch.utils.data import Dataset, DataLoader\n",
    "\n",
    "class GPTDatasetV1(Dataset):\n",
    "    def __init__(self, text, tokenizer, max_length, stride):\n",
    "        self.input_ids = []\n",
    "        self.target_ids = []\n",
    "        token_ids = tokenizer.encode(text)\n",
    "        for i in range(0, len(token_ids) - max_length, stride):\n",
    "            input = token_ids[i:i+max_length]\n",
    "            target = token_ids[i+1:i+max_length+1]\n",
    "            self.input_ids.append(torch.tensor(input))\n",
    "            self.target_ids.append(torch.tensor(target))\n",
    "\n",
    "    def __len__(self):\n",
    "        return len(self.input_ids)\n",
    "\n",
    "    def __getitem__(self, idx):\n",
    "        return self.input_ids[idx], self.target_ids[idx]"
   ],
   "outputs": [],
   "execution_count": 9
  },
  {
   "cell_type": "code",
   "id": "c7141727",
   "metadata": {
    "ExecuteTime": {
     "end_time": "2025-05-12T11:30:36.606326Z",
     "start_time": "2025-05-12T11:30:36.377167Z"
    }
   },
   "source": [
    "with open(\"the-verdict.txt\", \"r\", encoding=\"utf-8\") as f:\n",
    "    raw_text = f.read()\n",
    "\n",
    "tokenizer = tiktoken.get_encoding(\"gpt2\")\n",
    "dataset = GPTDatasetV1(raw_text, tokenizer, max_length=4, stride=1)\n",
    "\n",
    "dataloader = DataLoader(dataset, batch_size=3, shuffle=False)\n",
    "\n",
    "for i, (input, target) in enumerate(dataloader):\n",
    "    if i > 2:\n",
    "        break\n",
    "    print(f'Batch {i+1} Input: {input}')\n",
    "    print(f'Batch {i+1} Target: {target}')"
   ],
   "outputs": [
    {
     "name": "stdout",
     "output_type": "stream",
     "text": [
      "Batch 1 Input: tensor([[  40,  367, 2885, 1464],\n",
      "        [ 367, 2885, 1464, 1807],\n",
      "        [2885, 1464, 1807, 3619]])\n",
      "Batch 1 Target: tensor([[ 367, 2885, 1464, 1807],\n",
      "        [2885, 1464, 1807, 3619],\n",
      "        [1464, 1807, 3619,  402]])\n",
      "Batch 2 Input: tensor([[ 1464,  1807,  3619,   402],\n",
      "        [ 1807,  3619,   402,   271],\n",
      "        [ 3619,   402,   271, 10899]])\n",
      "Batch 2 Target: tensor([[ 1807,  3619,   402,   271],\n",
      "        [ 3619,   402,   271, 10899],\n",
      "        [  402,   271, 10899,  2138]])\n",
      "Batch 3 Input: tensor([[  402,   271, 10899,  2138],\n",
      "        [  271, 10899,  2138,   257],\n",
      "        [10899,  2138,   257,  7026]])\n",
      "Batch 3 Target: tensor([[  271, 10899,  2138,   257],\n",
      "        [10899,  2138,   257,  7026],\n",
      "        [ 2138,   257,  7026, 15632]])\n"
     ]
    }
   ],
   "execution_count": 10
  },
  {
   "metadata": {
    "ExecuteTime": {
     "end_time": "2025-05-12T11:55:08.912440Z",
     "start_time": "2025-05-12T11:55:08.615061Z"
    }
   },
   "cell_type": "code",
   "source": [
    "import tiktoken\n",
    "import torch\n",
    "\n",
    "with open(\"the-verdict.txt\",'r',encoding='utf-8') as f:\n",
    "    raw_text = f.read()\n",
    "\n",
    "tokenizer = tiktoken.get_encoding(\"gpt2\")\n",
    "context_length = 4\n",
    "dataset = GPTDatasetV1(raw_text, tokenizer, max_length=4, stride=1)\n",
    "dataloader = DataLoader(dataset, batch_size=8, shuffle=False)\n",
    "\n",
    "vocab_size = tokenizer.n_vocab\n",
    "output_dim = 256\n",
    "token_embedding_layer = torch.nn.Embedding(vocab_size, output_dim)\n",
    "inputs, target = next(iter(dataloader))\n",
    "token_embeddings = token_embedding_layer(inputs)\n",
    "pos_embedding_layer = torch.nn.Embedding(context_length, output_dim)\n",
    "pos_embeddings = pos_embedding_layer(torch.arange(context_length))\n",
    "input_embeddings = token_embeddings + pos_embeddings\n",
    "print(input_embeddings.shape)"
   ],
   "id": "52c43b99f9e6ea2b",
   "outputs": [
    {
     "name": "stdout",
     "output_type": "stream",
     "text": [
      "torch.Size([8, 4, 256])\n"
     ]
    }
   ],
   "execution_count": 12
  },
  {
   "metadata": {
    "ExecuteTime": {
     "end_time": "2025-05-12T12:11:50.849956Z",
     "start_time": "2025-05-12T12:11:50.834630Z"
    }
   },
   "cell_type": "code",
   "source": [
    "import torch\n",
    "\n",
    "inputs = torch.tensor(\n",
    "\n",
    "[[0.43,0.15,0.89], # Your(X^1)\n",
    " [0.55,0.87,0.66], #journey(x^2)\n",
    " [0.57, 0.85,0.64], # starts(x^3)\n",
    " [0.22, 0.58, 0.33], # with(x^4)\n",
    " [0.77, 0.25, 0.10], # one(x^5)\n",
    " [0.05, 0.80,0.55]] # step(x^6)\n",
    ")\n",
    "\n",
    "query=inputs[1]#将第二个输入词元作为当前查询\n",
    "attn_scores_2 = torch.empty(inputs. shape[0])\n",
    "\n",
    "for i, x_i in enumerate(inputs):\n",
    "\n",
    "    attn_scores_2[i]=torch.dot(x_i,query)#通过向量内积计算注意力分数\n",
    "print(\"注意力分数：\",attn_scores_2)\n",
    "\n",
    "attn_weights_2_tmp=attn_scores_2/attn_scores_2.sum()#归化注意力分数\n",
    "print(\"注意力权重：\",attn_weights_2_tmp)\n",
    "\n",
    "print(\"权重求和：\",attn_weights_2_tmp.sum())\n",
    "context_vec_2 = torch.zeros(query.shape)\n",
    "\n",
    "for i, x_i in enumerate(inputs):\n",
    "\n",
    "    context_vec_2 += attn_weights_2_tmp[i]*x_i #加权求和\n",
    "\n",
    "print(\"当前查询的上下文向量：\",context_vec_2)\n",
    "\n",
    "attn_score = inputs @ inputs.T\n",
    "attn_weights = torch.softmax(attn_score,dim=-1)\n",
    "all_context_vecs = attn_weights @ inputs\n",
    "print(all_context_vecs)"
   ],
   "id": "6b593e89b8fe7f8e",
   "outputs": [
    {
     "name": "stdout",
     "output_type": "stream",
     "text": [
      "注意力分数： tensor([0.9544, 1.4950, 1.4754, 0.8434, 0.7070, 1.0865])\n",
      "注意力权重： tensor([0.1455, 0.2278, 0.2249, 0.1285, 0.1077, 0.1656])\n",
      "权重求和： tensor(1.0000)\n",
      "当前查询的上下文向量： tensor([0.4355, 0.6451, 0.5680])\n",
      "tensor([[0.4421, 0.5931, 0.5790],\n",
      "        [0.4419, 0.6515, 0.5683],\n",
      "        [0.4431, 0.6496, 0.5671],\n",
      "        [0.4304, 0.6298, 0.5510],\n",
      "        [0.4671, 0.5910, 0.5266],\n",
      "        [0.4177, 0.6503, 0.5645]])\n"
     ]
    }
   ],
   "execution_count": 14
  },
  {
   "metadata": {
    "ExecuteTime": {
     "end_time": "2025-05-12T12:34:17.025119Z",
     "start_time": "2025-05-12T12:34:17.010687Z"
    }
   },
   "cell_type": "code",
   "source": [
    "class SelfAttention(torch.nn.Module):\n",
    "\n",
    "    def __init__(self, d_in, d_out, qkv_bias=False):\n",
    "        super().__init__()\n",
    "        self.W_query = torch.nn.Linear(d_in, d_out, bias=qkv_bias)\n",
    "        self.W_key = torch.nn.Linear(d_in, d_out, bias=qkv_bias)\n",
    "        self.value = torch.nn.Linear(d_in, d_out, bias=qkv_bias)\n",
    "\n",
    "    def forward(self, x):\n",
    "        keys = self.W_key(x)\n",
    "        queries = self.W_query(x)\n",
    "        values = self.value(x)\n",
    "\n",
    "        attn_scores = queries @ keys.T\n",
    "        attn_weights = torch.softmax(attn_scores / keys.shape[-1]**0.5,dim=-1)\n",
    "\n",
    "        context_vec = attn_weights @ values\n",
    "        return context_vec\n",
    "\n",
    "torch.manual_seed(789)\n",
    "d_in = inputs.shape[1]\n",
    "d_out = 2\n",
    "sa = SelfAttention(d_in, d_out)\n",
    "print(sa(inputs))"
   ],
   "id": "6f3b82d09abf2eb9",
   "outputs": [
    {
     "name": "stdout",
     "output_type": "stream",
     "text": [
      "tensor([[-0.0739,  0.0713],\n",
      "        [-0.0748,  0.0703],\n",
      "        [-0.0749,  0.0702],\n",
      "        [-0.0760,  0.0685],\n",
      "        [-0.0763,  0.0679],\n",
      "        [-0.0754,  0.0693]], grad_fn=<MmBackward0>)\n"
     ]
    }
   ],
   "execution_count": 18
  },
  {
   "metadata": {},
   "cell_type": "code",
   "outputs": [],
   "execution_count": null,
   "source": "",
   "id": "e5bbab148e2aeede"
  }
 ],
 "metadata": {
  "kernelspec": {
   "display_name": "deep",
   "language": "python",
   "name": "python3"
  },
  "language_info": {
   "codemirror_mode": {
    "name": "ipython",
    "version": 3
   },
   "file_extension": ".py",
   "mimetype": "text/x-python",
   "name": "python",
   "nbconvert_exporter": "python",
   "pygments_lexer": "ipython3",
   "version": "3.10.16"
  }
 },
 "nbformat": 4,
 "nbformat_minor": 5
}
