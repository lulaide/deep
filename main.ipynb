{
 "cells": [
  {
   "cell_type": "code",
   "execution_count": 2,
   "id": "30aa5a49",
   "metadata": {},
   "outputs": [
    {
     "name": "stdout",
     "output_type": "stream",
     "text": [
      "['I', 'HAD', 'always', 'thought', 'Jack', 'Gisburn', 'rather', 'a', 'cheap', 'genius', '--', 'though', 'a', 'good', 'fellow', 'enough', '--', 'so', 'it', 'was', 'no', 'great', 'surprise', 'to', 'me', 'to', 'hear', 'that', ',', 'in']\n"
     ]
    }
   ],
   "source": [
    "import re\n",
    "with open(\"the-verdict.txt\", \"r\") as file:\n",
    "    raw_text = file.read()\n",
    "\n",
    "preprocessed = re.split(r'([,.;:?_\"()\\']|--|\\s)', raw_text)\n",
    "preprocessed = [item.strip() for item in preprocessed if item.strip()]\n",
    "print(preprocessed[:30])"
   ]
  },
  {
   "cell_type": "code",
   "id": "68bc6a69",
   "metadata": {
    "jupyter": {
     "is_executing": true
    }
   },
   "source": [
    "all_words = sorted(set(preprocessed))\n",
    "vocab_size = len(all_words)\n",
    "vocab = {token: integer for integer, token in enumerate(all_words)}\n",
    "print(vocab_size)\n",
    "for i, item in enumerate(vocab.items()):\n",
    "    print(item)\n",
    "    if i >= 10:\n",
    "        break"
   ],
   "outputs": [],
   "execution_count": null
  },
  {
   "cell_type": "code",
   "execution_count": 12,
   "id": "bc174b16",
   "metadata": {},
   "outputs": [],
   "source": [
    "class SimpleTokenizerV1:\n",
    "    def __init__(self, vocab):\n",
    "        self.str2id = vocab\n",
    "        self.id2str = {i: s for s, i in vocab.items()}\n",
    "\n",
    "    def encode(self, text):\n",
    "        preprocessed = re.split(r'[, .?_!\"\\'()|\\s]', text)\n",
    "        preprocessed = [item for item in preprocessed if item.strip()]\n",
    "        ids = []\n",
    "        for s in preprocessed:\n",
    "            if s in self.str2id:\n",
    "                ids.append(self.str2id[s])\n",
    "            else:\n",
    "                print(f\"警告: 词汇 '{s}' 在词汇表中没有找到\")\n",
    "                ids.append(-1)  # 可以给未知词汇一个默认值，或者做其他处理\n",
    "        return ids\n",
    "\n",
    "    def decode(self, ids):\n",
    "        text = \" \".join(self.id2str.get(i, '[UNK]') for i in ids)  # 对于未知的 ID，使用 [UNK]\n",
    "        text = re.sub(r'\\s+([, .?_!\"\\'()|\\s])', r'\\1', text)\n",
    "        return text"
   ]
  },
  {
   "cell_type": "code",
   "execution_count": 22,
   "id": "6e333285",
   "metadata": {},
   "outputs": [
    {
     "name": "stdout",
     "output_type": "stream",
     "text": [
      "警告: 词汇 'genius--though' 在词汇表中没有找到\n",
      "警告: 词汇 'enough--so' 在词汇表中没有找到\n",
      "[53, 44, 154, 1016, 57, 37, 829, 120, 261, -1, 120, 505, 440, -1, 592, 1091, 717]\n",
      "I HAD always thought Jack Gisburn rather a cheap [UNK] a good fellow [UNK] it was no\n"
     ]
    }
   ],
   "source": [
    "tokenizer = SimpleTokenizerV1(vocab)\n",
    "text = raw_text[:99]\n",
    "ids = tokenizer.encode(text)\n",
    "print(ids)\n",
    "print(tokenizer.decode(ids))"
   ]
  },
  {
   "cell_type": "code",
   "execution_count": 24,
   "id": "c712595e",
   "metadata": {},
   "outputs": [
    {
     "name": "stdout",
     "output_type": "stream",
     "text": [
      "警告: 词汇 'genius--though' 在词汇表中没有找到\n",
      "[-1]\n"
     ]
    }
   ],
   "source": [
    "text = \"genius--though\"\n",
    "print(tokenizer.encode(text))"
   ]
  },
  {
   "cell_type": "code",
   "execution_count": 28,
   "id": "b11fb799",
   "metadata": {},
   "outputs": [
    {
     "name": "stdout",
     "output_type": "stream",
     "text": [
      "[15496, 11, 466, 345, 588, 8887, 30, 220, 50256, 554, 262, 4252, 18250, 8812, 2114, 286, 617, 34680, 27271, 13]\n",
      "Hello, do you like tea? <|endoftext|> In the sunlit terraces of someunknownPlace.\n"
     ]
    }
   ],
   "source": [
    "import tiktoken\n",
    "\n",
    "tokenizer = tiktoken.get_encoding(\"gpt2\")\n",
    "text = \"Hello, do you like tea? <|endoftext|> In the sunlit terraces of someunknownPlace.\"\n",
    "integers = tokenizer.encode(text, allowed_special={\"<|endoftext|>\"})\n",
    "print(integers)\n",
    "\n",
    "strings = tokenizer.decode(integers)\n",
    "print(strings)"
   ]
  },
  {
   "cell_type": "code",
   "execution_count": 32,
   "id": "3c90ea75",
   "metadata": {},
   "outputs": [
    {
     "name": "stdout",
     "output_type": "stream",
     "text": [
      "!\"#$%&'()*\n"
     ]
    }
   ],
   "source": [
    "print(tokenizer.decode([0, 1, 2, 3, 4, 5, 6, 7, 8, 9]))"
   ]
  }
 ],
 "metadata": {
  "kernelspec": {
   "display_name": "deep",
   "language": "python",
   "name": "python3"
  },
  "language_info": {
   "codemirror_mode": {
    "name": "ipython",
    "version": 3
   },
   "file_extension": ".py",
   "mimetype": "text/x-python",
   "name": "python",
   "nbconvert_exporter": "python",
   "pygments_lexer": "ipython3",
   "version": "3.10.16"
  }
 },
 "nbformat": 4,
 "nbformat_minor": 5
}
